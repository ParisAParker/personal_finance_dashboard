{
 "cells": [
  {
   "cell_type": "code",
   "execution_count": 1,
   "metadata": {},
   "outputs": [],
   "source": [
    "import os\n",
    "from plaid.model.link_token_create_request import LinkTokenCreateRequest\n",
    "from plaid.model.link_token_create_request_user import LinkTokenCreateRequestUser\n",
    "from plaid.model.products import Products\n",
    "from plaid.model.country_code import CountryCode\n",
    "from plaid.configuration import Configuration\n",
    "from plaid.api.plaid_api import PlaidApi\n",
    "from plaid.api_client import ApiClient\n",
    "from dotenv import load_dotenv"
   ]
  },
  {
   "cell_type": "code",
   "execution_count": 2,
   "metadata": {},
   "outputs": [
    {
     "data": {
      "text/plain": [
       "True"
      ]
     },
     "execution_count": 2,
     "metadata": {},
     "output_type": "execute_result"
    }
   ],
   "source": [
    "# Load environment variables\n",
    "load_dotenv()"
   ]
  },
  {
   "cell_type": "code",
   "execution_count": 9,
   "metadata": {},
   "outputs": [],
   "source": [
    "PLAID_CLIENT_ID = os.getenv(\"PLAID_CLIENT_ID\")\n",
    "PLAID_SECRET = os.getenv(\"PLAID_SECRET\")"
   ]
  },
  {
   "cell_type": "code",
   "execution_count": 4,
   "metadata": {},
   "outputs": [],
   "source": [
    "PLAID_ENV = 'sandbox'\n",
    "host_url = \"https://sandbox.plaid.com\""
   ]
  },
  {
   "cell_type": "code",
   "execution_count": 5,
   "metadata": {},
   "outputs": [],
   "source": [
    "config = Configuration(host=host_url)\n",
    "client = PlaidApi(ApiClient(config))"
   ]
  },
  {
   "cell_type": "code",
   "execution_count": 10,
   "metadata": {},
   "outputs": [],
   "source": [
    "request = LinkTokenCreateRequest(\n",
    "    client_id= PLAID_CLIENT_ID,\n",
    "    secret= PLAID_SECRET,\n",
    "    products=[Products(\"transactions\")],\n",
    "    client_name=\"Personal Finance App\",\n",
    "    country_codes=[CountryCode('US')],\n",
    "    language='en',\n",
    "    user=LinkTokenCreateRequestUser(\n",
    "        client_user_id=\"paris\"\n",
    "    )\n",
    ")"
   ]
  },
  {
   "cell_type": "code",
   "execution_count": 11,
   "metadata": {},
   "outputs": [],
   "source": [
    "response = client.link_token_create(request)"
   ]
  },
  {
   "cell_type": "code",
   "execution_count": 12,
   "metadata": {},
   "outputs": [],
   "source": [
    "link_token = response['link_token']"
   ]
  },
  {
   "cell_type": "code",
   "execution_count": 13,
   "metadata": {},
   "outputs": [
    {
     "data": {
      "text/plain": [
       "'link-sandbox-fbb2efa5-e47f-4981-a1a4-36ef9c4f027f'"
      ]
     },
     "execution_count": 13,
     "metadata": {},
     "output_type": "execute_result"
    }
   ],
   "source": [
    "link_token"
   ]
  },
  {
   "cell_type": "code",
   "execution_count": 39,
   "metadata": {},
   "outputs": [],
   "source": [
    "url = \"https://sandbox.plaid.com\"\n",
    "payload = {\n",
    "    \"client_id\": PLAID_CLIENT_ID,\n",
    "    \"secret\": PLAID_SECRET,\n",
    "    \"client_name\": \"My Finance App\",\n",
    "    \"language\": \"en\",\n",
    "    \"country_codes\": [\"US\"],\n",
    "    \"user\": {\"client_user_id\": \"user_123\"},  # Replace with your user ID\n",
    "    \"products\": [\"transactions\"],  # Specify Plaid product(s)\n",
    "    \"redirect_uri\": \"https://yourapp.com/oauth-callback\",  # Required for some banks\n",
    "    \"webhook\": \"https://yourapp.com/webhook\"  # Optional for event notifications\n",
    "}"
   ]
  },
  {
   "cell_type": "code",
   "execution_count": 46,
   "metadata": {},
   "outputs": [
    {
     "data": {
      "text/plain": [
       "{'public_token': 'public-sandbox-ed48a04f-8271-43c4-90c5-74f044922c8b',\n",
       " 'request_id': 'z0R0t0NI1t28MOZ'}"
      ]
     },
     "execution_count": 46,
     "metadata": {},
     "output_type": "execute_result"
    }
   ],
   "source": [
    "import requests\n",
    "\n",
    "PLAID_CLIENT_ID = os.getenv(\"PLAID_CLIENT_ID\")\n",
    "PLAID_SECRET = os.getenv(\"PLAID_SECRET\")\n",
    "\n",
    "url = \"https://sandbox.plaid.com/sandbox/public_token/create\"  # Works in all environments\n",
    "\n",
    "headers = {\"Content-Type\": \"application/json\"}\n",
    "data = {\n",
    "    \"client_id\": PLAID_CLIENT_ID,\n",
    "    \"secret\": PLAID_SECRET,\n",
    "    \"institution_id\": \"ins_109508\",  # Test bank\n",
    "    \"initial_products\": [\"transactions\"]\n",
    "}\n",
    "\n",
    "response = requests.post(url, json=data)\n",
    "\n",
    "response.json()"
   ]
  },
  {
   "cell_type": "code",
   "execution_count": 60,
   "metadata": {},
   "outputs": [
    {
     "data": {
      "text/plain": [
       "{'display_message': None,\n",
       " 'documentation_url': 'https://plaid.com/docs/#create-link-token',\n",
       " 'error_code': 'MISSING_FIELDS',\n",
       " 'error_message': 'the following required fields are missing: client_name',\n",
       " 'error_type': 'INVALID_REQUEST',\n",
       " 'request_id': 'TyuHpquzOgFeuqx',\n",
       " 'suggested_action': None}"
      ]
     },
     "execution_count": 60,
     "metadata": {},
     "output_type": "execute_result"
    }
   ],
   "source": [
    "import requests\n",
    "\n",
    "PLAID_CLIENT_ID = os.getenv(\"PLAID_CLIENT_ID\")\n",
    "PLAID_SECRET = os.getenv(\"PLAID_SECRET\")\n",
    "\n",
    "url = \"https://sandbox.plaid.com/link/token/create\"  # Works in all environments\n",
    "\n",
    "headers = {\"Content-Type\": \"application/json\"}\n",
    "data = {\n",
    "    \"client_id\": PLAID_CLIENT_ID,\n",
    "    \"secret\": PLAID_SECRET, \n",
    "    \"language\": \"en\",\n",
    "    \"country_codes\": [\"US\"],\n",
    "    \"user\": {\"client_user_id\": \"unique_user_id\"},\n",
    "    \"products\": [\"transactions\"]\n",
    "}\n",
    "\n",
    "response = requests.post(url, json=data, headers=headers)\n",
    "\n",
    "response.json()"
   ]
  },
  {
   "cell_type": "code",
   "execution_count": 37,
   "metadata": {},
   "outputs": [],
   "source": [
    "request = LinkTokenCreateRequest(\n",
    "    products = [Products(\"auth\")],\n",
    "    client_name = \"Test App\",\n",
    "    country_codes = [CountryCode(\"US\")],\n",
    "    redirect_uri = \"https://domainname.com/oauth-page.html\",\n",
    "    language='en',\n",
    "    webhook=\"https://webhook.example.com\",\n",
    "    user=LinkTokenCreateRequestUser(\n",
    "        client_user_id=\"paris\"\n",
    "    )\n",
    ")"
   ]
  },
  {
   "cell_type": "code",
   "execution_count": null,
   "metadata": {},
   "outputs": [],
   "source": [
    "url = \"https://sandbox.plaid.com/link/token/create\"\n",
    "payload = {\n",
    "    \"client_id\": PLAID_CLIENT_ID,\n",
    "    \"secret\": PLAID_SECRET,\n",
    "    \"client_name\": \"My Finance App\",\n",
    "    \"language\": \"en\",\n",
    "    \"country_codes\": [\"US\"],\n",
    "    \"user\": {\"client_user_id\": \"user_123\"},  # Replace with your user ID\n",
    "    \"products\": [\"transactions\"],  # Specify Plaid product(s)\n",
    "    \"redirect_uri\": \"https://yourapp.com/oauth-callback\",  # Required for some banks\n",
    "    \"webhook\": \"https://yourapp.com/webhook\"  # Optional for event notifications\n",
    "}"
   ]
  },
  {
   "cell_type": "code",
   "execution_count": 61,
   "metadata": {},
   "outputs": [
    {
     "data": {
      "text/plain": [
       "<Response [400]>"
      ]
     },
     "execution_count": 61,
     "metadata": {},
     "output_type": "execute_result"
    }
   ],
   "source": [
    "requests.post(url, json=payload)"
   ]
  }
 ],
 "metadata": {
  "kernelspec": {
   "display_name": ".venv",
   "language": "python",
   "name": "python3"
  },
  "language_info": {
   "codemirror_mode": {
    "name": "ipython",
    "version": 3
   },
   "file_extension": ".py",
   "mimetype": "text/x-python",
   "name": "python",
   "nbconvert_exporter": "python",
   "pygments_lexer": "ipython3",
   "version": "3.10.10"
  }
 },
 "nbformat": 4,
 "nbformat_minor": 2
}
