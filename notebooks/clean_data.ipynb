{
 "cells": [
  {
   "cell_type": "code",
   "execution_count": null,
   "metadata": {},
   "outputs": [],
   "source": [
    "import numpy as np\n",
    "import pandas as pd\n",
    "import json\n",
    "from pathlib import Path\n",
    "\n",
    "# Define data folder\n",
    "data_folder = Path.cwd().parent / 'data'\n",
    "\n",
    "# Load Chase checking transactions\n",
    "chase_df = pd.read_csv(data_folder / \"transactions/chase_checkings_transactions.csv\", index_col = False)\n",
    "\n",
    "# Load Chase savings transactions\n",
    "chase_savings = pd.read_csv(data_folder / \"transactions/chase_savings_transactions.csv\", index_col=False)\n",
    "\n",
    "# Load AMEX transactions\n",
    "amex_df = pd.read_csv(data_folder / \"transactions/amex_transactions.csv\")\n",
    "\n",
    "# Rename columns for chase\n",
    "chase_df = chase_df.rename(columns={\"Posting Date\":\"Date\"})\n",
    "\n",
    "# Get the current checking and saving balance\n",
    "no_balance_transactions = chase_df[chase_df['Balance'].str.strip() == '']\n",
    "process_amount = no_balance_transactions['Amount'].sum()\n",
    "most_recent_balance = float(chase_df[~(chase_df['Balance'].str.strip() == '')].iloc[0].Balance)\n",
    "checking_balance = round(most_recent_balance + process_amount,2)\n",
    "savings_balance = chase_savings.iloc[0].Balance\n",
    "\n",
    "# Keep only relevant columns in Chase\n",
    "chase_df = chase_df[[\"Date\", \"Description\", \"Amount\"]]\n",
    "\n",
    "# Convert date column to proper format\n",
    "chase_df['Date'] = pd.to_datetime(chase_df['Date'])\n",
    "amex_df['Date'] = pd.to_datetime(amex_df['Date'])\n",
    "\n",
    "# Add bank identifier\n",
    "chase_df['Bank'] = 'Chase'\n",
    "amex_df['Bank'] = 'AMEX'\n",
    "\n",
    "# Multiply amount by -1 so debits are negative\n",
    "amex_df['Amount'] = amex_df['Amount'] * -1\n",
    "\n",
    "# Combine both DataFrames\n",
    "transactions_df = pd.concat([chase_df,amex_df])\n",
    "\n",
    "# Save merged data to csv file\n",
    "transactions_df.to_csv(data_folder / \"transactions/merged_transactions.csv\", index = False)\n",
    "\n",
    "# Save balances to a JSON file\n",
    "balances = {\n",
    "    \"chase_checkings_balance\": checking_balance,\n",
    "    \"chase_savings_balance\": savings_balance \n",
    "}\n",
    "\n",
    "with open(data_folder / \"reports/chase_balances.json\", \"w\") as file:\n",
    "    json.dump(balances, file)"
   ]
  }
 ],
 "metadata": {
  "kernelspec": {
   "display_name": ".venv",
   "language": "python",
   "name": "python3"
  },
  "language_info": {
   "codemirror_mode": {
    "name": "ipython",
    "version": 3
   },
   "file_extension": ".py",
   "mimetype": "text/x-python",
   "name": "python",
   "nbconvert_exporter": "python",
   "pygments_lexer": "ipython3",
   "version": "3.10.10"
  }
 },
 "nbformat": 4,
 "nbformat_minor": 2
}
